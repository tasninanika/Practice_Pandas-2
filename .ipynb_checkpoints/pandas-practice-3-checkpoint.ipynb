{
 "cells": [
  {
   "cell_type": "code",
   "execution_count": null,
   "id": "ae2255e1-9232-471f-acdc-7d152ddb23fd",
   "metadata": {},
   "outputs": [],
   "source": [
    "import numpy as np\n",
    "import pandas as pd"
   ]
  },
  {
   "cell_type": "code",
   "execution_count": null,
   "id": "80d45328-abb5-4906-a6cd-11e47845a918",
   "metadata": {},
   "outputs": [],
   "source": [
    "#creating dataframe from data dic\n",
    "data_dic = {\n",
    "    \"Name\": ['Jarin', 'Tasnin', 'Anika'],\n",
    "    \"Age\": [16, 14, 20]\n",
    "}\n",
    "\n",
    "df = pd.DataFrame(data_dic, index=[\"Student-1\",\"Student-2\",\"Student-3\"])\n",
    "df\n",
    "\n",
    "#selecting a specific row\n",
    "df.loc['Student-2']\n",
    "\n",
    "#selecting a specific column\n",
    "df['Name']"
   ]
  }
 ],
 "metadata": {
  "kernelspec": {
   "display_name": "Python 3 (ipykernel)",
   "language": "python",
   "name": "python3"
  },
  "language_info": {
   "codemirror_mode": {
    "name": "ipython",
    "version": 3
   },
   "file_extension": ".py",
   "mimetype": "text/x-python",
   "name": "python",
   "nbconvert_exporter": "python",
   "pygments_lexer": "ipython3",
   "version": "3.12.7"
  }
 },
 "nbformat": 4,
 "nbformat_minor": 5
}
