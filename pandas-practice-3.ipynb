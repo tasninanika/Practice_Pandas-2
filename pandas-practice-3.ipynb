{
 "cells": [
  {
   "cell_type": "code",
   "execution_count": 3,
   "id": "ae2255e1-9232-471f-acdc-7d152ddb23fd",
   "metadata": {},
   "outputs": [],
   "source": [
    "import numpy as np\n",
    "import pandas as pd"
   ]
  },
  {
   "cell_type": "code",
   "execution_count": 4,
   "id": "80d45328-abb5-4906-a6cd-11e47845a918",
   "metadata": {},
   "outputs": [
    {
     "data": {
      "text/plain": [
       "Student-1     Jarin\n",
       "Student-2    Tasnin\n",
       "Student-3     Anika\n",
       "Name: Name, dtype: object"
      ]
     },
     "execution_count": 4,
     "metadata": {},
     "output_type": "execute_result"
    }
   ],
   "source": [
    "#creating dataframe from data dic\n",
    "data_dic = {\n",
    "    \"Name\": ['Jarin', 'Tasnin', 'Anika'],\n",
    "    \"Age\": [16, 14, 20]\n",
    "}\n",
    "\n",
    "df = pd.DataFrame(data_dic, index=[\"Student-1\",\"Student-2\",\"Student-3\"])\n",
    "df\n",
    "\n",
    "#selecting a specific row\n",
    "df.loc['Student-2']\n",
    "\n",
    "#selecting a specific column\n",
    "df['Name']"
   ]
  },
  {
   "cell_type": "markdown",
   "id": "5553b8c4-f73f-48ad-a157-d2c2ce3a1789",
   "metadata": {},
   "source": [
    "### Reading file using pandas\n"
   ]
  },
  {
   "cell_type": "code",
   "execution_count": 5,
   "id": "39bd963d-0c5d-4eb4-b9dc-9d44dba55219",
   "metadata": {},
   "outputs": [],
   "source": [
    "df = pd.read_csv(r'E:\\Machine Learning\\Module 6\\Cust_Purch_FakeData.csv')"
   ]
  }
 ],
 "metadata": {
  "kernelspec": {
   "display_name": "Python 3 (ipykernel)",
   "language": "python",
   "name": "python3"
  },
  "language_info": {
   "codemirror_mode": {
    "name": "ipython",
    "version": 3
   },
   "file_extension": ".py",
   "mimetype": "text/x-python",
   "name": "python",
   "nbconvert_exporter": "python",
   "pygments_lexer": "ipython3",
   "version": "3.12.7"
  }
 },
 "nbformat": 4,
 "nbformat_minor": 5
}
